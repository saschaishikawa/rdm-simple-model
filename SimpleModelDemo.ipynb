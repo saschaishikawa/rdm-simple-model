{
 "cells": [
  {
   "cell_type": "markdown",
   "metadata": {},
   "source": [
    "# A Simple Model\n",
    "This notebook demonstrates Robust Decision Making (RDM) with [Rhodium](https://github.com/Project-Platypus/Rhodium/) using a simple Excel model. "
   ]
  },
  {
   "cell_type": "markdown",
   "metadata": {},
   "source": [
    "## Setting Things Up\n",
    "First, lets import all the packages we'll be using."
   ]
  },
  {
   "cell_type": "code",
   "execution_count": 1,
   "metadata": {
    "collapsed": true
   },
   "outputs": [],
   "source": [
    "from rhodium import *\n",
    "\n",
    "# data analysis tools\n",
    "import numpy as np\n",
    "import pandas as pd\n",
    "\n",
    "# additonal excel tools\n",
    "import xlwings as xw\n",
    "\n",
    "# plotting tools\n",
    "import matplotlib as mpl\n",
    "import matplotlib.pyplot as plt\n",
    "import seaborn as sns\n",
    "\n",
    "# for evaluating efficienty\n",
    "import time"
   ]
  },
  {
   "cell_type": "markdown",
   "metadata": {},
   "source": [
    "From the `MODEL` worksheet, we read in the model data. Note that the second column contains Excel formulas, but Pandas is only able to show the values after they're evaluated. If we want to read the actual formulas, we'll have to manually use Openpyxl and get the cell contents."
   ]
  },
  {
   "cell_type": "markdown",
   "metadata": {},
   "source": [
    "## Case #1: Driving Excel Models with `xlwings`"
   ]
  },
  {
   "cell_type": "code",
   "execution_count": 2,
   "metadata": {
    "collapsed": false
   },
   "outputs": [],
   "source": [
    "wb = xw.Book('SimpleModel.xlsx')         # connect to existing workbook\n",
    "model_sheet    = wb.sheets['MODEL']      # defines the model\n",
    "input_sheet    = wb.sheets['INPUTS']     # contains input data\n",
    "output_sheet   = wb.sheets['OUTPUTS']    # aggregates model outputs\n",
    "database_sheet = wb.sheets['DATABASE']   # stores optimization results"
   ]
  },
  {
   "cell_type": "code",
   "execution_count": 3,
   "metadata": {
    "collapsed": false
   },
   "outputs": [],
   "source": [
    "# read input data\n",
    "input_labels = input_sheet.range('A2').expand('down').value\n",
    "input_values = input_sheet.range('B2:B11').value \n",
    "input_mins   = input_sheet.range('C2:C11').value\n",
    "input_maxs   = input_sheet.range('D2:D11').value\n",
    "\n",
    "# Example: setting values\n",
    "# inputs_sheet.range('B2:B11').options(transpose=True).value = [0, 0., 0.]"
   ]
  },
  {
   "cell_type": "code",
   "execution_count": 4,
   "metadata": {
    "collapsed": false
   },
   "outputs": [],
   "source": [
    "# read (initial) output data\n",
    "output_labels = output_sheet.range('A2:A6').expand('down').value\n",
    "output_values = output_sheet.range('B2:B6').value"
   ]
  },
  {
   "cell_type": "markdown",
   "metadata": {},
   "source": [
    "### Defining the Model\n",
    "We will now create a function that drives the Excel model."
   ]
  },
  {
   "cell_type": "code",
   "execution_count": null,
   "metadata": {
    "collapsed": true
   },
   "outputs": [],
   "source": [
    "# create \"wrapper\" around excel model\n",
    "def simple_model_xl(Var1, Var2, Var3, Var4, Var5, Var6, Var7, Var8, Var9, Var10):\n",
    "    input_sheet.range('B2:B11').options(transpose=True).value = [Var1, Var2, Var3, Var4, Var5, Var6, Var7, Var8, Var9, Var10]\n",
    "    return output_sheet.range('B2:B6').value"
   ]
  },
  {
   "cell_type": "markdown",
   "metadata": {},
   "source": [
    "### Setting up Rhodium"
   ]
  },
  {
   "cell_type": "code",
   "execution_count": null,
   "metadata": {
    "collapsed": false
   },
   "outputs": [],
   "source": [
    "# define model in rhodium\n",
    "model_xl = Model(simple_model_xl)\n",
    "\n",
    "model_xl.parameters = [\n",
    "    Parameter( input_labels[0] ),\n",
    "    Parameter( input_labels[1] ),\n",
    "    Parameter( input_labels[2] ),\n",
    "    Parameter( input_labels[3] ),\n",
    "    Parameter( input_labels[4] ),\n",
    "    Parameter( input_labels[5] ),\n",
    "    Parameter( input_labels[6] ),\n",
    "    Parameter( input_labels[7] ),\n",
    "    Parameter( input_labels[8] ),\n",
    "    Parameter( input_labels[9] )\n",
    "] \n",
    "\n",
    "model_xl.levers = [\n",
    "    IntegerLever( input_labels[0], input_mins[0], input_maxs[0] ),    \n",
    "    IntegerLever( input_labels[1], input_mins[1], input_maxs[1] ),   \n",
    "    IntegerLever( input_labels[2], input_mins[2], input_maxs[2] ),  \n",
    "    IntegerLever( input_labels[3], input_mins[3], input_maxs[3] ), \n",
    "    IntegerLever( input_labels[4], input_mins[4], input_maxs[4] ),\n",
    "    IntegerLever( input_labels[5], input_mins[5], input_maxs[5] ),\n",
    "    IntegerLever( input_labels[6], input_mins[6], input_maxs[6] ),\n",
    "    IntegerLever( input_labels[7], input_mins[7], input_maxs[7] ),\n",
    "    IntegerLever( input_labels[8], input_mins[8], input_maxs[8] ),\n",
    "    IntegerLever( input_labels[9], input_mins[9], input_maxs[9] )\n",
    "]\n",
    "\n",
    "model_xl.responses = [\n",
    "    Response( output_labels[0], Response.MAXIMIZE ),\n",
    "    Response( output_labels[1], Response.MINIMIZE ),\n",
    "    Response( output_labels[2], Response.MAXIMIZE ),\n",
    "    Response( output_labels[3], Response.MINIMIZE ),\n",
    "    Response( output_labels[4], Response.MAXIMIZE )\n",
    "]\n",
    "\n",
    "# # alternate way to define model parameters\n",
    "# # note: levers and responses result in type error (more work needed)\n",
    "# for i, input in enumerate(input_labels):\n",
    "#     foo = IntegerLever( input_labels[i], input_mins[i], input_maxs[i] )\n",
    "#     model.parameters += Parameter( input_labels[i] )\n",
    "#     model.levers += RealLever( input_labels[i], input_mins[i], input_maxs[i] )\n",
    "\n",
    "# for i, output in enumerate(output_labels):\n",
    "#     model.responses += Response( output_labels[i], Response.MAXIMIZE )\n"
   ]
  },
  {
   "cell_type": "markdown",
   "metadata": {},
   "source": [
    "We can now perform the multi-objecive optimization using the NSGA-II genertic algorithm. Let's also time it for future reference."
   ]
  },
  {
   "cell_type": "code",
   "execution_count": null,
   "metadata": {
    "collapsed": false
   },
   "outputs": [],
   "source": [
    "start_time = time.time()\n",
    "output_xl = optimize(model, 'NSGAII', 1000)\n",
    "runtime_xl = time.time() - start_time\n",
    "print 'Runtime {:0.4f}s'.format(runtime_xl)"
   ]
  },
  {
   "cell_type": "code",
   "execution_count": null,
   "metadata": {
    "collapsed": false
   },
   "outputs": [],
   "source": [
    "df_output = output.as_dataframe()\n",
    "df_output"
   ]
  },
  {
   "cell_type": "code",
   "execution_count": null,
   "metadata": {
    "collapsed": true
   },
   "outputs": [],
   "source": [
    "# save results to excel\n",
    "database_sheet.range('A1').value = df_output"
   ]
  },
  {
   "cell_type": "markdown",
   "metadata": {},
   "source": [
    "## Visualization"
   ]
  },
  {
   "cell_type": "code",
   "execution_count": null,
   "metadata": {
    "collapsed": true
   },
   "outputs": [],
   "source": [
    "# set up our graph styles\n",
    "sns.set()\n",
    "sns.set_style('darkgrid')"
   ]
  },
  {
   "cell_type": "code",
   "execution_count": null,
   "metadata": {
    "collapsed": false
   },
   "outputs": [],
   "source": [
    "parallel_coordinates(model, output, colormap='rainbow', target='top')"
   ]
  },
  {
   "cell_type": "markdown",
   "metadata": {},
   "source": [
    "## Case #2: Using a Python Model"
   ]
  },
  {
   "cell_type": "markdown",
   "metadata": {},
   "source": [
    "To best serve this example, we'll have to reverse engineer the simple model defined previously. We'll create a standalone -- admittedly contrived -- Python function that takes the expected inputs, performs the calculations, and returns the expected outputs."
   ]
  },
  {
   "cell_type": "code",
   "execution_count": null,
   "metadata": {
    "collapsed": true
   },
   "outputs": [],
   "source": [
    "def simple_model_py(Var1, Var2, Var3, Var4, Var5, Var6, Var7, Var8, Var9, Var10):\n",
    "    \n",
    "    # handle some internal calculations\n",
    "    Expression1 = Var1 * 0.336218764\n",
    "    Expression2 = Var2 * 0.75222251\n",
    "    Expression3 = Var3 * 0.358511648\n",
    "    Expression4 = Var4 * 0.916881328\n",
    "    Expression5 = Var5 * 0.968932684\n",
    "    Expression6 = Var6 * 0.100469201\n",
    "    Expression7 = Var7 * 0.008698836\n",
    "    Expression8 = Var8 * 0.980040676\n",
    "    Expression9 = Var9 * 0.36560712\n",
    "    Expression10 = Var10 * 0.716986761    \n",
    "    \n",
    "    # evaluate outputs\n",
    "    Output1 = Expression1 + Expression2 + Expression3 \n",
    "    Output2 = Expression4 + Expression5 + Expression6\n",
    "    Output3 = Expression7 + Expression8\n",
    "    Output4 = Expression9 \n",
    "    Output5 = Expression10\n",
    "    \n",
    "    return [ Output1, Output2, Output3, Output4, Output5 ]"
   ]
  },
  {
   "cell_type": "markdown",
   "metadata": {},
   "source": [
    "### Sanity Check\n",
    "Having defined the same model in two different ways, let's make sure they both behave the same way. We'll create a set of input parameters and evaluate them with each model. They should produce identical results."
   ]
  },
  {
   "cell_type": "code",
   "execution_count": null,
   "metadata": {
    "collapsed": false
   },
   "outputs": [],
   "source": [
    "# define test inputs\n",
    "Var1 = 5\n",
    "Var2 = 2\n",
    "Var3 = 5\n",
    "Var4 = 2\n",
    "Var5 = 5\n",
    "Var6 = 2\n",
    "Var7 = 5\n",
    "Var8 = 2\n",
    "Var9 = 5\n",
    "Var10 = 2\n",
    "\n",
    "# evaluate using different models\n",
    "test1 = simple_model(Var1, Var2, Var3, Var4, Var5, Var6, Var7, Var8, Var9, Var10)\n",
    "test2 = simple_model_py(Var1, Var2, Var3, Var4, Var5, Var6, Var7, Var8, Var9, Var10)"
   ]
  },
  {
   "cell_type": "code",
   "execution_count": null,
   "metadata": {
    "collapsed": false
   },
   "outputs": [],
   "source": [
    "# print formatted outputs and show their difference\n",
    "print 'Test1: ' + '\\t'.join( map(str, ['{:0.8f}'.format(val) for val in test1]) )\n",
    "print 'Test2: ' + '\\t'.join( map(str, ['{:0.8f}'.format(val) for val in test2]) )\n",
    "print 'Diff:  ' + '\\t'.join( map(str, ['{:0.8f}'.format(val) for val in np.subtract(test1, test2)]) )"
   ]
  },
  {
   "cell_type": "markdown",
   "metadata": {},
   "source": [
    "The models are consistent with each other. As before, let's load the model into the Rhodium framework."
   ]
  },
  {
   "cell_type": "code",
   "execution_count": null,
   "metadata": {
    "collapsed": true
   },
   "outputs": [],
   "source": [
    "model_py = Model(simple_model_py)\n",
    "\n",
    "model_py.parameters = [\n",
    "    Parameter( input_labels[0] ),\n",
    "    Parameter( input_labels[1] ),\n",
    "    Parameter( input_labels[2] ),\n",
    "    Parameter( input_labels[3] ),\n",
    "    Parameter( input_labels[4] ),\n",
    "    Parameter( input_labels[5] ),\n",
    "    Parameter( input_labels[6] ),\n",
    "    Parameter( input_labels[7] ),\n",
    "    Parameter( input_labels[8] ),\n",
    "    Parameter( input_labels[9] )\n",
    "] \n",
    "\n",
    "model_py.levers = [\n",
    "    IntegerLever( input_labels[0], input_mins[0], input_maxs[0] ),    \n",
    "    IntegerLever( input_labels[1], input_mins[1], input_maxs[1] ),   \n",
    "    IntegerLever( input_labels[2], input_mins[2], input_maxs[2] ),  \n",
    "    IntegerLever( input_labels[3], input_mins[3], input_maxs[3] ), \n",
    "    IntegerLever( input_labels[4], input_mins[4], input_maxs[4] ),\n",
    "    IntegerLever( input_labels[5], input_mins[5], input_maxs[5] ),\n",
    "    IntegerLever( input_labels[6], input_mins[6], input_maxs[6] ),\n",
    "    IntegerLever( input_labels[7], input_mins[7], input_maxs[7] ),\n",
    "    IntegerLever( input_labels[8], input_mins[8], input_maxs[8] ),\n",
    "    IntegerLever( input_labels[9], input_mins[9], input_maxs[9] )\n",
    "]\n",
    "\n",
    "model_py.responses = [\n",
    "    Response( output_labels[0], Response.MAXIMIZE ),\n",
    "    Response( output_labels[1], Response.MINIMIZE ),\n",
    "    Response( output_labels[2], Response.MAXIMIZE ),\n",
    "    Response( output_labels[3], Response.MINIMIZE ),\n",
    "    Response( output_labels[4], Response.MAXIMIZE )\n",
    "]"
   ]
  },
  {
   "cell_type": "code",
   "execution_count": null,
   "metadata": {
    "collapsed": false
   },
   "outputs": [],
   "source": [
    "start_time = time.time()\n",
    "output_py = optimize(model_py, 'NSGAII', 1000)\n",
    "runtime_py = time.time() - start_time\n",
    "print 'Runtime {:0.4f}s'.format(runtime_py)"
   ]
  },
  {
   "cell_type": "markdown",
   "metadata": {},
   "source": [
    "**Note the significant gain in performance by running a Python model!**"
   ]
  },
  {
   "cell_type": "code",
   "execution_count": null,
   "metadata": {
    "collapsed": false
   },
   "outputs": [],
   "source": [
    "df_output_py = output_py.as_dataframe()\n",
    "df_output_py"
   ]
  },
  {
   "cell_type": "code",
   "execution_count": null,
   "metadata": {
    "collapsed": false
   },
   "outputs": [],
   "source": [
    "parallel_coordinates(model_py, output_py, colormap='rainbow', target='top')"
   ]
  },
  {
   "cell_type": "markdown",
   "metadata": {},
   "source": [
    "## Case #3: External Model\n",
    "In some cases, models will be defined in another launguage such as C/C++, R, or Fortran."
   ]
  },
  {
   "cell_type": "markdown",
   "metadata": {},
   "source": [
    "### R\n",
    "Let's try implementing our simple model in R. This will require the `pyper` package that can be installed by typing `pip install pyper` on the command line. Let's import Rhodium's R connector as follows"
   ]
  },
  {
   "cell_type": "code",
   "execution_count": 5,
   "metadata": {
    "collapsed": false
   },
   "outputs": [],
   "source": [
    "from rhodium.rbridge import RModel"
   ]
  },
  {
   "cell_type": "code",
   "execution_count": 6,
   "metadata": {
    "collapsed": false
   },
   "outputs": [],
   "source": [
    "model_r = RModel('simple_model.R', 'simple_model')\n",
    "\n",
    "# the rest should look familiar by now...\n",
    "\n",
    "model_r.parameters = [\n",
    "    Parameter( input_labels[0] ),\n",
    "    Parameter( input_labels[1] ),\n",
    "    Parameter( input_labels[2] ),\n",
    "    Parameter( input_labels[3] ),\n",
    "    Parameter( input_labels[4] ),\n",
    "    Parameter( input_labels[5] ),\n",
    "    Parameter( input_labels[6] ),\n",
    "    Parameter( input_labels[7] ),\n",
    "    Parameter( input_labels[8] ),\n",
    "    Parameter( input_labels[9] )\n",
    "] \n",
    "\n",
    "model_r.levers = [\n",
    "    IntegerLever( input_labels[0], input_mins[0], input_maxs[0] ),    \n",
    "    IntegerLever( input_labels[1], input_mins[1], input_maxs[1] ),   \n",
    "    IntegerLever( input_labels[2], input_mins[2], input_maxs[2] ),  \n",
    "    IntegerLever( input_labels[3], input_mins[3], input_maxs[3] ), \n",
    "    IntegerLever( input_labels[4], input_mins[4], input_maxs[4] ),\n",
    "    IntegerLever( input_labels[5], input_mins[5], input_maxs[5] ),\n",
    "    IntegerLever( input_labels[6], input_mins[6], input_maxs[6] ),\n",
    "    IntegerLever( input_labels[7], input_mins[7], input_maxs[7] ),\n",
    "    IntegerLever( input_labels[8], input_mins[8], input_maxs[8] ),\n",
    "    IntegerLever( input_labels[9], input_mins[9], input_maxs[9] )\n",
    "]\n",
    "\n",
    "model_r.responses = [\n",
    "    Response( output_labels[0], Response.MAXIMIZE ),\n",
    "    Response( output_labels[1], Response.MINIMIZE ),\n",
    "    Response( output_labels[2], Response.MAXIMIZE ),\n",
    "    Response( output_labels[3], Response.MINIMIZE ),\n",
    "    Response( output_labels[4], Response.MAXIMIZE )\n",
    "]"
   ]
  },
  {
   "cell_type": "code",
   "execution_count": 7,
   "metadata": {
    "collapsed": false
   },
   "outputs": [
    {
     "name": "stdout",
     "output_type": "stream",
     "text": [
      "LEVER:  <rhodium.model.IntegerLever object at 0x1131bc950>\n",
      "LEVER:  <rhodium.model.IntegerLever object at 0x1131bcc10>\n",
      "LEVER:  <rhodium.model.IntegerLever object at 0x1131bcc50>\n",
      "LEVER:  <rhodium.model.IntegerLever object at 0x1131bcc90>\n",
      "LEVER:  <rhodium.model.IntegerLever object at 0x1131bccd0>\n",
      "LEVER:  <rhodium.model.IntegerLever object at 0x1131bcd10>\n",
      "LEVER:  <rhodium.model.IntegerLever object at 0x1131bcd50>\n",
      "LEVER:  <rhodium.model.IntegerLever object at 0x1131bcd90>\n",
      "LEVER:  <rhodium.model.IntegerLever object at 0x1131bcdd0>\n",
      "LEVER:  <rhodium.model.IntegerLever object at 0x1131bce10>\n",
      "Runtime 12.2220s\n"
     ]
    }
   ],
   "source": [
    "start_time = time.time()\n",
    "output_r = optimize(model_r, 'NSGAII', 1000)\n",
    "runtime_r = time.time() - start_time\n",
    "print 'Runtime {:0.4f}s'.format(runtime_r)"
   ]
  },
  {
   "cell_type": "code",
   "execution_count": null,
   "metadata": {
    "collapsed": false
   },
   "outputs": [],
   "source": [
    "parallel_coordinates(model_r, output_r, colormap='rainbow', target='top')"
   ]
  },
  {
   "cell_type": "markdown",
   "metadata": {},
   "source": [
    "### C\n",
    "We've come this far, might as well try C. Our approach is somewhat different because it uses Rhodium's capability to run (Native Functions)[https://github.com/Project-Platypus/Rhodium/wiki/Models-in-Other-Languages#native-functions].  This requires the shared libraries generated during compile time. These libraries enable Rhodium to run specific functions in C, C++, or Fortran as if it were in natively in that environment -- hence the term.\n",
    "\n",
    "In UNIX/Linux operating systems, these are files with `*.so` extensions. In Windows systems they're called dynamic link libraries and carry a `*.dll` extension."
   ]
  },
  {
   "cell_type": "markdown",
   "metadata": {},
   "source": [
    "For example, to create a shared library in a UNIX environment, one might do this:\n",
    "\n",
    "```\n",
    "gcc simple_model.c -shared -o simple_model.so\n",
    "```"
   ]
  },
  {
   "cell_type": "code",
   "execution_count": 22,
   "metadata": {
    "collapsed": false
   },
   "outputs": [],
   "source": [
    "from rhodium.ffi import NativeModel\n",
    "\n",
    "model_c = NativeModel('simple_model.so', 'simple_model')\n",
    "\n",
    "model_c.parameters = [\n",
    "    Parameter( input_labels[0], type='double' ),\n",
    "    Parameter( input_labels[1], type='double' ),\n",
    "    Parameter( input_labels[2], type='double' ),\n",
    "    Parameter( input_labels[3], type='double' ),\n",
    "    Parameter( input_labels[4], type='double' ),\n",
    "    Parameter( input_labels[5], type='double' ),\n",
    "    Parameter( input_labels[6], type='double' ),\n",
    "    Parameter( input_labels[7], type='double' ),\n",
    "    Parameter( input_labels[8], type='double' ),\n",
    "    Parameter( input_labels[9], type='double' )\n",
    "] \n",
    "\n",
    "model_c.levers = [\n",
    "    IntegerLever( input_labels[0], input_mins[0], input_maxs[0] ),    \n",
    "    IntegerLever( input_labels[1], input_mins[1], input_maxs[1] ),   \n",
    "    IntegerLever( input_labels[2], input_mins[2], input_maxs[2] ),  \n",
    "    IntegerLever( input_labels[3], input_mins[3], input_maxs[3] ), \n",
    "    IntegerLever( input_labels[4], input_mins[4], input_maxs[4] ),\n",
    "    IntegerLever( input_labels[5], input_mins[5], input_maxs[5] ),\n",
    "    IntegerLever( input_labels[6], input_mins[6], input_maxs[6] ),\n",
    "    IntegerLever( input_labels[7], input_mins[7], input_maxs[7] ),\n",
    "    IntegerLever( input_labels[8], input_mins[8], input_maxs[8] ),\n",
    "    IntegerLever( input_labels[9], input_mins[9], input_maxs[9] )\n",
    "]\n",
    "\n",
    "\n",
    "# model_c.responses = [\n",
    "#     Response( output_labels[0], type='double' ),\n",
    "#     Response( output_labels[1], type='double' ),\n",
    "#     Response( output_labels[2], type='double' ),\n",
    "#     Response( output_labels[3], type='double' ),\n",
    "#     Response( output_labels[4], type='double' )\n",
    "# ]\n",
    "\n",
    "model_c.responses = [\n",
    "    Response('output', type='double*5' )\n",
    "]"
   ]
  },
  {
   "cell_type": "code",
   "execution_count": 23,
   "metadata": {
    "collapsed": false
   },
   "outputs": [
    {
     "name": "stdout",
     "output_type": "stream",
     "text": [
      "LEVER:  <rhodium.model.IntegerLever object at 0x1132b7bd0>\n",
      "LEVER:  <rhodium.model.IntegerLever object at 0x113234050>\n",
      "LEVER:  <rhodium.model.IntegerLever object at 0x113234850>\n",
      "LEVER:  <rhodium.model.IntegerLever object at 0x1132340d0>\n",
      "LEVER:  <rhodium.model.IntegerLever object at 0x113234150>\n",
      "LEVER:  <rhodium.model.IntegerLever object at 0x113234290>\n",
      "LEVER:  <rhodium.model.IntegerLever object at 0x113234650>\n",
      "LEVER:  <rhodium.model.IntegerLever object at 0x1132346d0>\n",
      "LEVER:  <rhodium.model.IntegerLever object at 0x113234f90>\n",
      "LEVER:  <rhodium.model.IntegerLever object at 0x1132345d0>\n"
     ]
    }
   ],
   "source": [
    "# start_time = time.time()\n",
    "output_c = optimize(model_c, 'NSGAII', 1000)\n",
    "# runtime_c = time.time() - start_time\n",
    "# print 'Runtime {:0.4f}s'.format(runtime_c)"
   ]
  },
  {
   "cell_type": "code",
   "execution_count": 24,
   "metadata": {
    "collapsed": false
   },
   "outputs": [
    {
     "data": {
      "text/plain": [
       "[{u'Var1': 7,\n",
       "  u'Var10': 1,\n",
       "  u'Var2': 8,\n",
       "  u'Var3': 7,\n",
       "  u'Var4': 3,\n",
       "  u'Var5': 4,\n",
       "  u'Var6': 10,\n",
       "  u'Var7': 6,\n",
       "  u'Var8': 2,\n",
       "  u'Var9': 6,\n",
       "  'output': <rhodium.ffi.c_double_Array_5 at 0x1132ba170>}]"
      ]
     },
     "execution_count": 24,
     "metadata": {},
     "output_type": "execute_result"
    }
   ],
   "source": [
    "output_c"
   ]
  },
  {
   "cell_type": "markdown",
   "metadata": {},
   "source": [
    "## Case #4: Other External Models\n",
    "Occasionally a model will be black box, i.e. we (or Rhodium, for that matter) are unaware of the inner workings of the implementation but expect on the model to take input data and produce reliable output data. Examples of this are proprietary software, legacy binaries of which we no longer have access to the binary libraries, or binary software without an application programming interface, or API. The latter represents the worst-case scenario where a model was designed in a specific manner, e.g. one that requires user interaction via graphical user interface (GUI) and has no other designed implementation to provide inputs and outputs.\n",
    "\n",
    "In some of these cases, the model may lend itself to reading and writing data to and from files, e.g. Excel/CSV. In such a case, "
   ]
  },
  {
   "cell_type": "code",
   "execution_count": null,
   "metadata": {
    "collapsed": true
   },
   "outputs": [],
   "source": []
  }
 ],
 "metadata": {
  "anaconda-cloud": {},
  "kernelspec": {
   "display_name": "Python [conda root]",
   "language": "python",
   "name": "conda-root-py"
  },
  "language_info": {
   "codemirror_mode": {
    "name": "ipython",
    "version": 2
   },
   "file_extension": ".py",
   "mimetype": "text/x-python",
   "name": "python",
   "nbconvert_exporter": "python",
   "pygments_lexer": "ipython2",
   "version": "2.7.12"
  }
 },
 "nbformat": 4,
 "nbformat_minor": 1
}
